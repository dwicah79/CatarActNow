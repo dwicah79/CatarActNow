{
  "nbformat": 4,
  "nbformat_minor": 0,
  "metadata": {
    "colab": {
      "provenance": [],
      "toc_visible": true
    },
    "kernelspec": {
      "name": "python3",
      "display_name": "Python 3"
    },
    "language_info": {
      "name": "python"
    }
  },
  "cells": [
    {
      "cell_type": "markdown",
      "source": [
        "# Connect to Drive & Import Library"
      ],
      "metadata": {
        "id": "kPj3SF-K9W8Q"
      }
    },
    {
      "cell_type": "code",
      "execution_count": null,
      "metadata": {
        "colab": {
          "base_uri": "https://localhost:8080/"
        },
        "id": "u-aygEQ_5gd6",
        "outputId": "2a15f65c-f97e-4ac4-c91e-829622c5193d"
      },
      "outputs": [
        {
          "output_type": "stream",
          "name": "stdout",
          "text": [
            "Mounted at /content/drive\n"
          ]
        }
      ],
      "source": [
        "from google.colab import drive\n",
        "drive.mount('/content/drive')"
      ]
    },
    {
      "cell_type": "code",
      "source": [
        "import os\n",
        "from tensorflow.keras.preprocessing.image import ImageDataGenerator, img_to_array, load_img\n",
        "import numpy as np\n",
        "import shutil\n",
        "import random"
      ],
      "metadata": {
        "id": "KarZMuXof2VQ"
      },
      "execution_count": null,
      "outputs": []
    },
    {
      "cell_type": "markdown",
      "source": [
        "# Augmenting additional data and combining with spliiting data"
      ],
      "metadata": {
        "id": "ccgSIKOosl7r"
      }
    },
    {
      "cell_type": "code",
      "source": [
        "ROOT_PATH = \"/content/drive/MyDrive/Bangkit 2024\"\n",
        "TRAINING_PATH = f\"{ROOT_PATH}/Split_Augmentation/Dataset/train/Mature\"\n",
        "TEST_PATH = f\"{ROOT_PATH}/Split_Augmentation/Dataset/test/Mature\"\n",
        "VALIDATION_PATH = f\"{ROOT_PATH}/Split_Augmentation/Dataset/valid/Mature\"\n",
        "MATURE_PATH = f\"{ROOT_PATH}/Mature\""
      ],
      "metadata": {
        "id": "BYj3M8PXHTFe"
      },
      "execution_count": null,
      "outputs": []
    },
    {
      "cell_type": "code",
      "source": [
        "# Function for image augmentation\n",
        "def augment_image(image_path, save_to_dir, datagen, prefix):\n",
        "    img = load_img(image_path)  # Read image\n",
        "    x = img_to_array(img)  # Image to array conversion\n",
        "    x = np.expand_dims(x, axis=0)\n",
        "    i = 0\n",
        "    for batch in datagen.flow(x, batch_size=1, save_to_dir=save_to_dir, save_prefix=prefix, save_format='jpeg'):\n",
        "        i += 1\n",
        "        if i > 5:  # Augmentation of 5 images per original image\n",
        "            break\n"
      ],
      "metadata": {
        "id": "XW424K7jgIS1"
      },
      "execution_count": null,
      "outputs": []
    },
    {
      "cell_type": "code",
      "source": [
        "# Set ImageDataGenerator for augmentation\n",
        "datagen = ImageDataGenerator(rotation_range=40, width_shift_range=0.2, height_shift_range=0.2, shear_range=0.2, zoom_range=0.2, horizontal_flip=True, fill_mode='nearest')"
      ],
      "metadata": {
        "id": "uR8NaM3TLSoy"
      },
      "execution_count": null,
      "outputs": []
    },
    {
      "cell_type": "code",
      "source": [
        "# Create a directory to store temporary augmented images\n",
        "TEMP_AUGMENT_DIR = f\"{ROOT_PATH}/Temp_Augment\"\n",
        "os.makedirs(TEMP_AUGMENT_DIR, exist_ok=True)"
      ],
      "metadata": {
        "id": "D54z-CnlLV-R"
      },
      "execution_count": null,
      "outputs": []
    },
    {
      "cell_type": "code",
      "source": [
        "# Image augmentation in 'mature' class\n",
        "for filename in os.listdir(MATURE_PATH):\n",
        "    file_path = os.path.join(MATURE_PATH, filename)\n",
        "    augment_image(file_path, TEMP_AUGMENT_DIR, datagen, 'Mature_aug')"
      ],
      "metadata": {
        "id": "FGkq9nrMNgzD"
      },
      "execution_count": null,
      "outputs": []
    },
    {
      "cell_type": "code",
      "source": [
        "# Determine the proportion of data for train, test, and valid\n",
        "def assign_to_set():\n",
        "    r = random.random()\n",
        "    if r < 0.8:\n",
        "        return TRAINING_PATH\n",
        "    elif r < 0.9:\n",
        "        return VALIDATION_PATH\n",
        "    else:\n",
        "        return TEST_PATH"
      ],
      "metadata": {
        "id": "c5VtNO_Ok2H7"
      },
      "execution_count": null,
      "outputs": []
    },
    {
      "cell_type": "code",
      "source": [
        "# Move the augmented image to the appropriate directory\n",
        "for augmented_file in os.listdir(TEMP_AUGMENT_DIR):\n",
        "    src_path = os.path.join(TEMP_AUGMENT_DIR, augmented_file)\n",
        "    dest_dir = assign_to_set()\n",
        "    dest_path = os.path.join(dest_dir, augmented_file)\n",
        "    os.makedirs(os.path.dirname(dest_path), exist_ok=True)\n",
        "    shutil.move(src_path, dest_path)"
      ],
      "metadata": {
        "id": "519gcKZORWTs"
      },
      "execution_count": null,
      "outputs": []
    },
    {
      "cell_type": "code",
      "source": [
        "# Delete temporary directory\n",
        "shutil.rmtree(TEMP_AUGMENT_DIR)"
      ],
      "metadata": {
        "id": "tMEwMAnplFE7"
      },
      "execution_count": null,
      "outputs": []
    },
    {
      "cell_type": "code",
      "source": [
        "print(\"Data augmentation and merging is complete.\")"
      ],
      "metadata": {
        "id": "_28HUhxSRb_A",
        "colab": {
          "base_uri": "https://localhost:8080/"
        },
        "outputId": "7b5d8122-d883-4a9e-b97f-1503b59bc125"
      },
      "execution_count": null,
      "outputs": [
        {
          "output_type": "stream",
          "name": "stdout",
          "text": [
            "Data augmentation and merging is complete.\n"
          ]
        }
      ]
    },
    {
      "cell_type": "markdown",
      "source": [
        "# Analyze Dataset"
      ],
      "metadata": {
        "id": "hul35q1Es2TI"
      }
    },
    {
      "cell_type": "code",
      "source": [
        "ROOT_PATH = \"/content/drive/MyDrive/Bangkit 2024/Split_Augmentation/Dataset\"\n",
        "TRAINING_PATH = f\"{ROOT_PATH}/train\"\n",
        "TEST_PATH = f\"{ROOT_PATH}/test\"\n",
        "VALIDATION_PATH = f\"{ROOT_PATH}/valid\""
      ],
      "metadata": {
        "id": "YzN5rnB-tKv6"
      },
      "execution_count": null,
      "outputs": []
    },
    {
      "cell_type": "code",
      "source": [
        "classes = ['Normal', 'Immature', 'Mature']"
      ],
      "metadata": {
        "id": "ZAQ3RbF1r1bd"
      },
      "execution_count": null,
      "outputs": []
    },
    {
      "cell_type": "code",
      "source": [
        "def check_dataset(PATH, classes):\n",
        "  '''\n",
        "  Print number of images per class\n",
        "  and total of images\n",
        "  '''\n",
        "  num_files = 0\n",
        "  for cls in classes:\n",
        "    length = len(os.listdir(os.path.join(PATH, cls)))\n",
        "    print(f\"Number of images for {cls}: {length}\")\n",
        "    num_files += length\n",
        "  print(\"=\"*15)\n",
        "  print(\"Number of images total:\", num_files)"
      ],
      "metadata": {
        "id": "Y4q0CWl7rq7V"
      },
      "execution_count": null,
      "outputs": []
    },
    {
      "cell_type": "code",
      "source": [
        "check_dataset(TRAINING_PATH, classes)"
      ],
      "metadata": {
        "colab": {
          "base_uri": "https://localhost:8080/"
        },
        "id": "_JTcNhfer_N8",
        "outputId": "53cba604-8bf0-43e4-90da-e31e2973b733"
      },
      "execution_count": null,
      "outputs": [
        {
          "output_type": "stream",
          "name": "stdout",
          "text": [
            "Number of images for Normal: 1304\n",
            "Number of images for Immature: 1125\n",
            "Number of images for Mature: 1582\n",
            "===============\n",
            "Number of images total: 4011\n"
          ]
        }
      ]
    },
    {
      "cell_type": "code",
      "source": [
        "check_dataset(TEST_PATH, classes)"
      ],
      "metadata": {
        "colab": {
          "base_uri": "https://localhost:8080/"
        },
        "id": "gomNYiBAt5_a",
        "outputId": "90b7f83d-cbaf-4f58-ff36-2fc91ee185e7"
      },
      "execution_count": null,
      "outputs": [
        {
          "output_type": "stream",
          "name": "stdout",
          "text": [
            "Number of images for Normal: 458\n",
            "Number of images for Immature: 378\n",
            "Number of images for Mature: 454\n",
            "===============\n",
            "Number of images total: 1290\n"
          ]
        }
      ]
    },
    {
      "cell_type": "code",
      "source": [
        "check_dataset(VALIDATION_PATH, classes)"
      ],
      "metadata": {
        "colab": {
          "base_uri": "https://localhost:8080/"
        },
        "id": "sRbtHE4vt_A8",
        "outputId": "b450a29c-20c2-4fe2-e4b4-b55051d8be36"
      },
      "execution_count": null,
      "outputs": [
        {
          "output_type": "stream",
          "name": "stdout",
          "text": [
            "Number of images for Normal: 421\n",
            "Number of images for Immature: 387\n",
            "Number of images for Mature: 476\n",
            "===============\n",
            "Number of images total: 1284\n"
          ]
        }
      ]
    }
  ]
}